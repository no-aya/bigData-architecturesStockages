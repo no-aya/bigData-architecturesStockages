{
 "cells": [
  {
   "cell_type": "markdown",
   "id": "301c6935-8bdd-468e-847c-85eb58b8373c",
   "metadata": {},
   "source": [
    "# Calcule somme des ventes"
   ]
  },
  {
   "cell_type": "markdown",
   "id": "e907bbb4",
   "metadata": {},
   "source": [
    "## 1. Depuis un fichier CSV"
   ]
  },
  {
   "cell_type": "markdown",
   "id": "14437b91-5315-4c46-99e2-159c61a4f72f",
   "metadata": {},
   "source": [
    "### 1.1. Configuration de l'environnement Spark"
   ]
  },
  {
   "cell_type": "code",
   "execution_count": 1,
   "id": "a60c7e81-7728-476c-8a45-c7f64f481dc2",
   "metadata": {},
   "outputs": [
    {
     "name": "stdout",
     "output_type": "stream",
     "text": [
      "Requirement already satisfied: pyspark in ./miniconda3/lib/python3.10/site-packages (3.4.0)\r\n",
      "Requirement already satisfied: py4j==0.10.9.7 in ./miniconda3/lib/python3.10/site-packages (from pyspark) (0.10.9.7)\r\n"
     ]
    }
   ],
   "source": [
    "!~/miniconda3/bin/pip install pyspark"
   ]
  },
  {
   "cell_type": "code",
   "execution_count": 2,
   "id": "b183378a-a4aa-4bd0-b37f-75137d426960",
   "metadata": {},
   "outputs": [],
   "source": [
    "import pyspark"
   ]
  },
  {
   "cell_type": "code",
   "execution_count": 3,
   "id": "b19fca96",
   "metadata": {},
   "outputs": [
    {
     "data": {
      "text/html": [
       "<div>\n",
       "<style scoped>\n",
       "    .dataframe tbody tr th:only-of-type {\n",
       "        vertical-align: middle;\n",
       "    }\n",
       "\n",
       "    .dataframe tbody tr th {\n",
       "        vertical-align: top;\n",
       "    }\n",
       "\n",
       "    .dataframe thead th {\n",
       "        text-align: right;\n",
       "    }\n",
       "</style>\n",
       "<table border=\"1\" class=\"dataframe\">\n",
       "  <thead>\n",
       "    <tr style=\"text-align: right;\">\n",
       "      <th></th>\n",
       "      <th>date</th>\n",
       "      <th>city</th>\n",
       "      <th>product</th>\n",
       "      <th>price</th>\n",
       "    </tr>\n",
       "  </thead>\n",
       "  <tbody>\n",
       "    <tr>\n",
       "      <th>0</th>\n",
       "      <td>2019-02-10</td>\n",
       "      <td>Marrakech</td>\n",
       "      <td>TV</td>\n",
       "      <td>1000</td>\n",
       "    </tr>\n",
       "    <tr>\n",
       "      <th>1</th>\n",
       "      <td>2019-02-10</td>\n",
       "      <td>Lyon</td>\n",
       "      <td>Phone</td>\n",
       "      <td>500</td>\n",
       "    </tr>\n",
       "    <tr>\n",
       "      <th>2</th>\n",
       "      <td>2019-02-10</td>\n",
       "      <td>Marseille</td>\n",
       "      <td>TV</td>\n",
       "      <td>1000</td>\n",
       "    </tr>\n",
       "    <tr>\n",
       "      <th>3</th>\n",
       "      <td>2019-02-10</td>\n",
       "      <td>Marrakech</td>\n",
       "      <td>Phone</td>\n",
       "      <td>500</td>\n",
       "    </tr>\n",
       "    <tr>\n",
       "      <th>4</th>\n",
       "      <td>2019-02-10</td>\n",
       "      <td>Marrakech</td>\n",
       "      <td>TV</td>\n",
       "      <td>1000</td>\n",
       "    </tr>\n",
       "    <tr>\n",
       "      <th>5</th>\n",
       "      <td>2019-02-10</td>\n",
       "      <td>Lyon</td>\n",
       "      <td>TV</td>\n",
       "      <td>1000</td>\n",
       "    </tr>\n",
       "    <tr>\n",
       "      <th>6</th>\n",
       "      <td>2019-02-10</td>\n",
       "      <td>Marseille</td>\n",
       "      <td>Phone</td>\n",
       "      <td>500</td>\n",
       "    </tr>\n",
       "    <tr>\n",
       "      <th>7</th>\n",
       "      <td>2019-02-10</td>\n",
       "      <td>Marrakech</td>\n",
       "      <td>Phone</td>\n",
       "      <td>500</td>\n",
       "    </tr>\n",
       "  </tbody>\n",
       "</table>\n",
       "</div>"
      ],
      "text/plain": [
       "         date       city product  price\n",
       "0  2019-02-10  Marrakech      TV   1000\n",
       "1  2019-02-10       Lyon   Phone    500\n",
       "2  2019-02-10  Marseille      TV   1000\n",
       "3  2019-02-10  Marrakech   Phone    500\n",
       "4  2019-02-10  Marrakech      TV   1000\n",
       "5  2019-02-10       Lyon      TV   1000\n",
       "6  2019-02-10  Marseille   Phone    500\n",
       "7  2019-02-10  Marrakech   Phone    500"
      ]
     },
     "execution_count": 3,
     "metadata": {},
     "output_type": "execute_result"
    }
   ],
   "source": [
    "import pandas as pd\n",
    "pd.read_csv('ventes.csv')"
   ]
  },
  {
   "cell_type": "markdown",
   "id": "e8e55c46",
   "metadata": {},
   "source": [
    "### 1.2. Import du CSV"
   ]
  },
  {
   "cell_type": "code",
   "execution_count": 4,
   "id": "bb9eb7a8",
   "metadata": {},
   "outputs": [],
   "source": [
    "from pyspark.sql import SparkSession"
   ]
  },
  {
   "cell_type": "code",
   "execution_count": 10,
   "id": "2e6f8575",
   "metadata": {},
   "outputs": [],
   "source": [
    "spark=SparkSession.builder.appName('ventes').getOrCreate()"
   ]
  },
  {
   "cell_type": "code",
   "execution_count": 6,
   "id": "dfc6ce15",
   "metadata": {},
   "outputs": [
    {
     "data": {
      "text/html": [
       "\n",
       "            <div>\n",
       "                <p><b>SparkSession - in-memory</b></p>\n",
       "                \n",
       "        <div>\n",
       "            <p><b>SparkContext</b></p>\n",
       "\n",
       "            <p><a href=\"http://localhost:4040\">Spark UI</a></p>\n",
       "\n",
       "            <dl>\n",
       "              <dt>Version</dt>\n",
       "                <dd><code>v3.4.0</code></dd>\n",
       "              <dt>Master</dt>\n",
       "                <dd><code>local[*]</code></dd>\n",
       "              <dt>AppName</dt>\n",
       "                <dd><code>ventes</code></dd>\n",
       "            </dl>\n",
       "        </div>\n",
       "        \n",
       "            </div>\n",
       "        "
      ],
      "text/plain": [
       "<pyspark.sql.session.SparkSession at 0x7efd51948940>"
      ]
     },
     "execution_count": 6,
     "metadata": {},
     "output_type": "execute_result"
    }
   ],
   "source": [
    "spark"
   ]
  },
  {
   "cell_type": "code",
   "execution_count": 7,
   "id": "26706e62",
   "metadata": {},
   "outputs": [
    {
     "name": "stderr",
     "output_type": "stream",
     "text": [
      "                                                                                \r"
     ]
    }
   ],
   "source": [
    "df_pyspark=spark.read.csv('file:///home/aya/ventes.csv', header=True)"
   ]
  },
  {
   "cell_type": "code",
   "execution_count": 8,
   "id": "21436db1",
   "metadata": {},
   "outputs": [
    {
     "name": "stdout",
     "output_type": "stream",
     "text": [
      "+----------+---------+-------+-----+\n",
      "|      date|     city|product|price|\n",
      "+----------+---------+-------+-----+\n",
      "|2019-02-10|Marrakech|     TV| 1000|\n",
      "|2019-02-10|     Lyon|  Phone| 500 |\n",
      "|2019-02-10|Marseille|     TV| 1000|\n",
      "|2019-02-10|Marrakech|  Phone|  500|\n",
      "|2019-02-10|Marrakech|     TV| 1000|\n",
      "|2019-02-10|     Lyon|     TV| 1000|\n",
      "|2019-02-10|Marseille|  Phone|  500|\n",
      "|2019-02-10|Marrakech|  Phone|  500|\n",
      "+----------+---------+-------+-----+\n",
      "\n"
     ]
    }
   ],
   "source": [
    "df_pyspark.show()"
   ]
  },
  {
   "cell_type": "code",
   "execution_count": 9,
   "id": "1e4db695",
   "metadata": {},
   "outputs": [
    {
     "name": "stdout",
     "output_type": "stream",
     "text": [
      "root\n",
      " |-- date: string (nullable = true)\n",
      " |-- city: string (nullable = true)\n",
      " |-- product: string (nullable = true)\n",
      " |-- price: string (nullable = true)\n",
      "\n"
     ]
    }
   ],
   "source": [
    "df_pyspark.printSchema()"
   ]
  },
  {
   "cell_type": "markdown",
   "id": "3dd8a05a",
   "metadata": {},
   "source": [
    "On voit bien que les types des colonnes n'ont pas été correctement interprétés ! On utilisera alors **inferSchema** :"
   ]
  },
  {
   "cell_type": "code",
   "execution_count": 11,
   "id": "5bfeffc9",
   "metadata": {},
   "outputs": [
    {
     "name": "stdout",
     "output_type": "stream",
     "text": [
      "root\n",
      " |-- date: date (nullable = true)\n",
      " |-- city: string (nullable = true)\n",
      " |-- product: string (nullable = true)\n",
      " |-- price: double (nullable = true)\n",
      "\n"
     ]
    }
   ],
   "source": [
    "df_pyspark=spark.read.csv('file:///home/aya/ventes.csv', header=True, inferSchema=True)\n",
    "df_pyspark.printSchema()"
   ]
  },
  {
   "cell_type": "markdown",
   "id": "6ac80d98",
   "metadata": {},
   "source": [
    "### 1.3. Calcule de la somme des ventes"
   ]
  },
  {
   "cell_type": "code",
   "execution_count": 12,
   "id": "4ce881f2",
   "metadata": {},
   "outputs": [
    {
     "name": "stdout",
     "output_type": "stream",
     "text": [
      "+---------+------+\n",
      "|     city| price|\n",
      "+---------+------+\n",
      "|Marrakech|1000.0|\n",
      "|     Lyon| 500.0|\n",
      "|Marseille|1000.0|\n",
      "|Marrakech| 500.0|\n",
      "|Marrakech|1000.0|\n",
      "|     Lyon|1000.0|\n",
      "|Marseille| 500.0|\n",
      "|Marrakech| 500.0|\n",
      "+---------+------+\n",
      "\n"
     ]
    }
   ],
   "source": [
    "df_cityprice=df_pyspark.select(['city','price'])\n",
    "df_cityprice.show()"
   ]
  },
  {
   "cell_type": "code",
   "execution_count": 13,
   "id": "8a98011d",
   "metadata": {},
   "outputs": [],
   "source": [
    "dfProductCount=df_cityprice.groupBy(\"city\").sum()"
   ]
  },
  {
   "cell_type": "code",
   "execution_count": 14,
   "id": "b47e4254",
   "metadata": {},
   "outputs": [
    {
     "name": "stdout",
     "output_type": "stream",
     "text": [
      "+---------+----------+\n",
      "|     city|sum(price)|\n",
      "+---------+----------+\n",
      "|Marseille|    1500.0|\n",
      "|     Lyon|    1500.0|\n",
      "|Marrakech|    3000.0|\n",
      "+---------+----------+\n",
      "\n"
     ]
    }
   ],
   "source": [
    "dfProductCount.show()"
   ]
  },
  {
   "cell_type": "markdown",
   "id": "0e399ee3",
   "metadata": {},
   "source": [
    "## 2. Depuis un stream"
   ]
  },
  {
   "cell_type": "markdown",
   "id": "87417e5f",
   "metadata": {},
   "source": [
    "### 2.1. Import des librairie et initialisation"
   ]
  },
  {
   "cell_type": "code",
   "execution_count": null,
   "id": "8d53af3c",
   "metadata": {},
   "outputs": [],
   "source": [
    "from pyspark.streaming import StreamingContext\n",
    "\n",
    "from pyspark.sql.functions import split  # convertir convertir une ligne en colonne\n",
    "from pyspark.sql.functions import explode  # convertir colonne vers ligne\n",
    "\n",
    "from pyspark.sql.functions import col\n",
    "from pyspark.sql.functions import sum"
   ]
  },
  {
   "cell_type": "code",
   "execution_count": 16,
   "id": "374ac6ec",
   "metadata": {},
   "outputs": [
    {
     "name": "stderr",
     "output_type": "stream",
     "text": [
      "23/04/25 01:35:09 WARN TextSocketSourceProvider: The socket source should not be used for production applications! It does not support recovery.\n"
     ]
    }
   ],
   "source": [
    "dfLines = spark.readStream.format(\"socket\").option(\"host\", \"localhost\").option(\"port\", 8080).load()"
   ]
  },
  {
   "cell_type": "markdown",
   "id": "a8f0cedb",
   "metadata": {},
   "source": [
    "On suppose que les données seront séparés par un espace \" \""
   ]
  },
  {
   "cell_type": "code",
   "execution_count": 17,
   "id": "b085f61f",
   "metadata": {},
   "outputs": [
    {
     "name": "stdout",
     "output_type": "stream",
     "text": [
      "root\n",
      " |-- city: string (nullable = true)\n",
      " |-- sum(price): double (nullable = true)\n",
      "\n"
     ]
    }
   ],
   "source": [
    "dfVentes = dfLines.select(split(dfLines[\"value\"], \" \").alias(\"ventes\"))\n",
    "\n",
    "df_pair = dfVentes.select(dfVentes[\"ventes\"][1].alias(\"city\"), dfVentes[\"ventes\"][3].alias(\"price\"))\n",
    "df_pair=df_pair.withColumn(\"price\",col(\"price\").cast('double')).groupBy(\"city\").sum()\n",
    "\n",
    "df_pair.printSchema()\n"
   ]
  },
  {
   "cell_type": "code",
   "execution_count": null,
   "id": "690279d7",
   "metadata": {},
   "outputs": [
    {
     "name": "stderr",
     "output_type": "stream",
     "text": [
      "23/04/25 01:37:00 WARN ResolveWriteToStream: Temporary checkpoint location created which is deleted normally when the query didn't fail: /tmp/temporary-5b265911-1975-4db0-b631-0c5e7959b3c3. If it's required to delete it under any circumstances, please set spark.sql.streaming.forceDeleteTempCheckpointLocation to true. Important to know deleting temp checkpoint folder is best effort.\n",
      "23/04/25 01:37:00 WARN ResolveWriteToStream: spark.sql.adaptive.enabled is not supported in streaming DataFrames/Datasets and will be disabled.\n",
      "                                                                                \r"
     ]
    },
    {
     "name": "stdout",
     "output_type": "stream",
     "text": [
      "-------------------------------------------\n",
      "Batch: 0\n",
      "-------------------------------------------\n",
      "+----+----------+\n",
      "|city|sum(price)|\n",
      "+----+----------+\n",
      "+----+----------+\n",
      "\n"
     ]
    },
    {
     "name": "stderr",
     "output_type": "stream",
     "text": [
      "23/04/25 01:37:08 WARN ProcessingTimeExecutor: Current batch is falling behind. The trigger interval is 6000 milliseconds, but spent 8892 milliseconds\n",
      "                                                                                \r"
     ]
    },
    {
     "name": "stdout",
     "output_type": "stream",
     "text": [
      "-------------------------------------------\n",
      "Batch: 5\n",
      "-------------------------------------------\n",
      "+---------+----------+\n",
      "|     city|sum(price)|\n",
      "+---------+----------+\n",
      "|marseille|    8522.2|\n",
      "+---------+----------+\n",
      "\n"
     ]
    },
    {
     "name": "stderr",
     "output_type": "stream",
     "text": [
      "23/04/25 01:37:19 WARN ProcessingTimeExecutor: Current batch is falling behind. The trigger interval is 6000 milliseconds, but spent 7009 milliseconds\n",
      "                                                                                \r"
     ]
    },
    {
     "name": "stdout",
     "output_type": "stream",
     "text": [
      "-------------------------------------------\n",
      "Batch: 6\n",
      "-------------------------------------------\n",
      "+---------+----------+\n",
      "|     city|sum(price)|\n",
      "+---------+----------+\n",
      "|marrakech|   45000.0|\n",
      "+---------+----------+\n",
      "\n"
     ]
    },
    {
     "name": "stderr",
     "output_type": "stream",
     "text": [
      "23/04/25 01:37:37 WARN ProcessingTimeExecutor: Current batch is falling behind. The trigger interval is 6000 milliseconds, but spent 7004 milliseconds\n",
      "23/04/25 01:38:05 WARN TextSocketMicroBatchStream: Stream closed by localhost:8080\n"
     ]
    }
   ],
   "source": [
    "df_pair.writeStream.format(\"console\").outputMode(\"update\").trigger(processingTime='6 seconds').start().awaitTermination()"
   ]
  },
  {
   "attachments": {
    "image.png": {
     "image/png": "[encoded data removed]"
    }
   },
   "cell_type": "markdown",
   "id": "67d183d8",
   "metadata": {},
   "source": [
    "Voici les inputs : (les 4 premiers sont des tests)\n",
    "![image.png](attachment:image.png)"
   ]
  },
  {
   "cell_type": "markdown",
   "id": "c193b705",
   "metadata": {},
   "source": [
    "---"
   ]
  }
 ],
 "metadata": {
  "kernelspec": {
   "display_name": "Python 3 (ipykernel)",
   "language": "python",
   "name": "python3"
  },
  "language_info": {
   "codemirror_mode": {
    "name": "ipython",
    "version": 3
   },
   "file_extension": ".py",
   "mimetype": "text/x-python",
   "name": "python",
   "nbconvert_exporter": "python",
   "pygments_lexer": "ipython3",
   "version": "3.10.11"
  }
 },
 "nbformat": 4,
 "nbformat_minor": 5
}
